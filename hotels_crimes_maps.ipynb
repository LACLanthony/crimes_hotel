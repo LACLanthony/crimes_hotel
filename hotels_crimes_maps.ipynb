{
  "nbformat": 4,
  "nbformat_minor": 0,
  "metadata": {
    "colab": {
      "provenance": [],
      "authorship_tag": "ABX9TyPhruPuAg1B4Wc/kFHDkMfe",
      "include_colab_link": true
    },
    "kernelspec": {
      "name": "python3",
      "display_name": "Python 3"
    },
    "language_info": {
      "name": "python"
    }
  },
  "cells": [
    {
      "cell_type": "markdown",
      "metadata": {
        "id": "view-in-github",
        "colab_type": "text"
      },
      "source": [
        "<a href=\"https://colab.research.google.com/github/LACLanthony/crimes_hotel/blob/main/hotels_crimes_maps.ipynb\" target=\"_parent\"><img src=\"https://colab.research.google.com/assets/colab-badge.svg\" alt=\"Open In Colab\"/></a>"
      ]
    },
    {
      "cell_type": "code",
      "execution_count": 1,
      "metadata": {
        "id": "ILgw4bvuxqag",
        "colab": {
          "base_uri": "https://localhost:8080/"
        },
        "outputId": "5a9331d2-db1a-4c6d-ad73-48935a1a97b7"
      },
      "outputs": [
        {
          "output_type": "stream",
          "name": "stdout",
          "text": [
            "Mounted at /content/gdrive/\n"
          ]
        }
      ],
      "source": [
        "from google.colab import drive\n",
        "drive.mount('/content/gdrive/')\n",
        "path = '/content/gdrive/MyDrive/data/'\n",
        "csv1 = 'crime_2023.csv'\n",
        "csv2 = 'hotels_geo.csv'"
      ]
    },
    {
      "cell_type": "code",
      "source": [
        "import pandas as pd\n",
        "import numpy as np\n",
        "import matplotlib.pyplot as plt\n",
        "import seaborn as sns\n",
        "from geopy.distance import geodesic as GD"
      ],
      "metadata": {
        "id": "1nMb29du0wj2"
      },
      "execution_count": 2,
      "outputs": []
    },
    {
      "cell_type": "markdown",
      "source": [
        "\n",
        "**The data and the packages have been loaded. I will now create two data frames: hotels and crimes.**\n",
        "\n"
      ],
      "metadata": {
        "id": "PmrAfBMy1V54"
      }
    },
    {
      "cell_type": "code",
      "source": [
        "hotels = pd.read_csv(path+csv2)\n",
        "crimes = pd.read_csv(path+csv1)"
      ],
      "metadata": {
        "id": "TeVBfa0c1VLA"
      },
      "execution_count": 3,
      "outputs": []
    },
    {
      "cell_type": "markdown",
      "source": [
        "**Viewing the columns from each data frame, the crimes data frame can have some fields removed. However, it will be important that I keep the geo-location information on each of the data frames as they will be used in tandem later.**"
      ],
      "metadata": {
        "id": "BdUwXWaY3aAK"
      }
    },
    {
      "cell_type": "code",
      "source": [
        "print(crimes.columns)\n",
        "print(hotels.columns)"
      ],
      "metadata": {
        "id": "_GV2zU_o1nYD",
        "outputId": "5ca160bd-d3ea-4bc2-cbc7-16080bdaa9aa",
        "colab": {
          "base_uri": "https://localhost:8080/"
        }
      },
      "execution_count": 5,
      "outputs": [
        {
          "output_type": "stream",
          "name": "stdout",
          "text": [
            "Index(['Incident Number', 'Highest Offense Description',\n",
            "       'Highest Offense Code', 'Family Violence', 'Occurred Date Time',\n",
            "       'Occurred Date', 'Occurred Time', 'Report Date Time', 'Report Date',\n",
            "       'Report Time', 'Location Type', 'Address', 'Zip Code',\n",
            "       'Council District', 'APD Sector', 'APD District', 'PRA', 'Census Tract',\n",
            "       'Clearance Status', 'Clearance Date', 'UCR Category',\n",
            "       'Category Description', 'X-coordinate', 'Y-coordinate', 'Latitude',\n",
            "       'Longitude', 'Location', 'Zip Codes', 'Single Member Council Districts',\n",
            "       'BOUNDARIES_single_member_districts', 'Zoning Review Cases_data',\n",
            "       'Neighborhood Planning Areas',\n",
            "       'Boundaries: City of Austin Council Districts'],\n",
            "      dtype='object')\n",
            "Index(['Unnamed: 0', 'index', 'hotel_name', 'address', 'city', 'state',\n",
            "       'zipcode', 'phone', 'lat', 'lng'],\n",
            "      dtype='object')\n"
          ]
        }
      ]
    },
    {
      "cell_type": "markdown",
      "source": [
        "**The crimes data frame will now only have the following fields. Moving forward this is what the new crimes data frame will contain.**"
      ],
      "metadata": {
        "id": "D4TuyPUO4ElJ"
      }
    },
    {
      "cell_type": "code",
      "source": [
        "crimes = crimes[['Highest Offense Description', 'Occurred Date Time', 'Location Type', 'Address', 'X-coordinate', 'Y-coordinate', 'Latitude',\n",
        "       'Longitude', 'Location', 'APD Sector', 'APD District', 'Council District']]"
      ],
      "metadata": {
        "id": "nwrifBbr34kr"
      },
      "execution_count": 6,
      "outputs": []
    }
  ]
}