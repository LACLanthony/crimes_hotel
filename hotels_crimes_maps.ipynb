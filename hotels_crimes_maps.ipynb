{
  "nbformat": 4,
  "nbformat_minor": 0,
  "metadata": {
    "colab": {
      "provenance": [],
      "authorship_tag": "ABX9TyN/M/GNaYGmKYBKBqihQeb1",
      "include_colab_link": true
    },
    "kernelspec": {
      "name": "python3",
      "display_name": "Python 3"
    },
    "language_info": {
      "name": "python"
    }
  },
  "cells": [
    {
      "cell_type": "markdown",
      "metadata": {
        "id": "view-in-github",
        "colab_type": "text"
      },
      "source": [
        "<a href=\"https://colab.research.google.com/github/LACLanthony/crimes_hotel/blob/main/hotels_crimes_maps.ipynb\" target=\"_parent\"><img src=\"https://colab.research.google.com/assets/colab-badge.svg\" alt=\"Open In Colab\"/></a>"
      ]
    },
    {
      "cell_type": "code",
      "execution_count": 1,
      "metadata": {
        "id": "ILgw4bvuxqag",
        "colab": {
          "base_uri": "https://localhost:8080/"
        },
        "outputId": "5a9331d2-db1a-4c6d-ad73-48935a1a97b7"
      },
      "outputs": [
        {
          "output_type": "stream",
          "name": "stdout",
          "text": [
            "Mounted at /content/gdrive/\n"
          ]
        }
      ],
      "source": [
        "from google.colab import drive\n",
        "drive.mount('/content/gdrive/')\n",
        "path = '/content/gdrive/MyDrive/data/'\n",
        "csv1 = 'crime_2023.csv'\n",
        "csv2 = 'hotels_geo.csv'"
      ]
    },
    {
      "cell_type": "code",
      "source": [
        "import pandas as pd\n",
        "import numpy as np\n",
        "import matplotlib.pyplot as plt\n",
        "import seaborn as sns\n",
        "from geopy.distance import geodesic as GD"
      ],
      "metadata": {
        "id": "1nMb29du0wj2"
      },
      "execution_count": 2,
      "outputs": []
    },
    {
      "cell_type": "markdown",
      "source": [
        "\n",
        "**The data and the packages have been loaded. I will now create two data frames: hotels and crimes.**\n",
        "\n"
      ],
      "metadata": {
        "id": "PmrAfBMy1V54"
      }
    },
    {
      "cell_type": "code",
      "source": [
        "hotels = pd.read_csv(path+csv2)\n",
        "crimes = pd.read_csv(path+csv1)"
      ],
      "metadata": {
        "id": "TeVBfa0c1VLA"
      },
      "execution_count": 3,
      "outputs": []
    },
    {
      "cell_type": "code",
      "source": [
        "hotels.head(2)\n"
      ],
      "metadata": {
        "colab": {
          "base_uri": "https://localhost:8080/",
          "height": 112
        },
        "id": "GUQIoDib5wdA",
        "outputId": "44ae8c6c-1747-4735-82ca-12262dc413e3"
      },
      "execution_count": 20,
      "outputs": [
        {
          "output_type": "execute_result",
          "data": {
            "text/plain": [
              "                                          hotel_name           address  \\\n",
              "0  Holiday Inn Express & Suites Austin Downtown -...     805 Neches St   \n",
              "1          Hotel Indigo Austin Downtown - University  810 Red River St   \n",
              "\n",
              "     city state  zipcode           phone       lat       lng  \n",
              "0  Austin    TX    78701  (855) 862-4858  30.26931 -97.73732  \n",
              "1  Austin    TX    78701  (737) 443-6259  30.26923 -97.73617  "
            ],
            "text/html": [
              "\n",
              "  <div id=\"df-dc67dfc5-9891-4ce3-89f1-95a4e012b594\">\n",
              "    <div class=\"colab-df-container\">\n",
              "      <div>\n",
              "<style scoped>\n",
              "    .dataframe tbody tr th:only-of-type {\n",
              "        vertical-align: middle;\n",
              "    }\n",
              "\n",
              "    .dataframe tbody tr th {\n",
              "        vertical-align: top;\n",
              "    }\n",
              "\n",
              "    .dataframe thead th {\n",
              "        text-align: right;\n",
              "    }\n",
              "</style>\n",
              "<table border=\"1\" class=\"dataframe\">\n",
              "  <thead>\n",
              "    <tr style=\"text-align: right;\">\n",
              "      <th></th>\n",
              "      <th>hotel_name</th>\n",
              "      <th>address</th>\n",
              "      <th>city</th>\n",
              "      <th>state</th>\n",
              "      <th>zipcode</th>\n",
              "      <th>phone</th>\n",
              "      <th>lat</th>\n",
              "      <th>lng</th>\n",
              "    </tr>\n",
              "  </thead>\n",
              "  <tbody>\n",
              "    <tr>\n",
              "      <th>0</th>\n",
              "      <td>Holiday Inn Express &amp; Suites Austin Downtown -...</td>\n",
              "      <td>805 Neches St</td>\n",
              "      <td>Austin</td>\n",
              "      <td>TX</td>\n",
              "      <td>78701</td>\n",
              "      <td>(855) 862-4858</td>\n",
              "      <td>30.26931</td>\n",
              "      <td>-97.73732</td>\n",
              "    </tr>\n",
              "    <tr>\n",
              "      <th>1</th>\n",
              "      <td>Hotel Indigo Austin Downtown - University</td>\n",
              "      <td>810 Red River St</td>\n",
              "      <td>Austin</td>\n",
              "      <td>TX</td>\n",
              "      <td>78701</td>\n",
              "      <td>(737) 443-6259</td>\n",
              "      <td>30.26923</td>\n",
              "      <td>-97.73617</td>\n",
              "    </tr>\n",
              "  </tbody>\n",
              "</table>\n",
              "</div>\n",
              "      <button class=\"colab-df-convert\" onclick=\"convertToInteractive('df-dc67dfc5-9891-4ce3-89f1-95a4e012b594')\"\n",
              "              title=\"Convert this dataframe to an interactive table.\"\n",
              "              style=\"display:none;\">\n",
              "        \n",
              "  <svg xmlns=\"http://www.w3.org/2000/svg\" height=\"24px\"viewBox=\"0 0 24 24\"\n",
              "       width=\"24px\">\n",
              "    <path d=\"M0 0h24v24H0V0z\" fill=\"none\"/>\n",
              "    <path d=\"M18.56 5.44l.94 2.06.94-2.06 2.06-.94-2.06-.94-.94-2.06-.94 2.06-2.06.94zm-11 1L8.5 8.5l.94-2.06 2.06-.94-2.06-.94L8.5 2.5l-.94 2.06-2.06.94zm10 10l.94 2.06.94-2.06 2.06-.94-2.06-.94-.94-2.06-.94 2.06-2.06.94z\"/><path d=\"M17.41 7.96l-1.37-1.37c-.4-.4-.92-.59-1.43-.59-.52 0-1.04.2-1.43.59L10.3 9.45l-7.72 7.72c-.78.78-.78 2.05 0 2.83L4 21.41c.39.39.9.59 1.41.59.51 0 1.02-.2 1.41-.59l7.78-7.78 2.81-2.81c.8-.78.8-2.07 0-2.86zM5.41 20L4 18.59l7.72-7.72 1.47 1.35L5.41 20z\"/>\n",
              "  </svg>\n",
              "      </button>\n",
              "      \n",
              "  <style>\n",
              "    .colab-df-container {\n",
              "      display:flex;\n",
              "      flex-wrap:wrap;\n",
              "      gap: 12px;\n",
              "    }\n",
              "\n",
              "    .colab-df-convert {\n",
              "      background-color: #E8F0FE;\n",
              "      border: none;\n",
              "      border-radius: 50%;\n",
              "      cursor: pointer;\n",
              "      display: none;\n",
              "      fill: #1967D2;\n",
              "      height: 32px;\n",
              "      padding: 0 0 0 0;\n",
              "      width: 32px;\n",
              "    }\n",
              "\n",
              "    .colab-df-convert:hover {\n",
              "      background-color: #E2EBFA;\n",
              "      box-shadow: 0px 1px 2px rgba(60, 64, 67, 0.3), 0px 1px 3px 1px rgba(60, 64, 67, 0.15);\n",
              "      fill: #174EA6;\n",
              "    }\n",
              "\n",
              "    [theme=dark] .colab-df-convert {\n",
              "      background-color: #3B4455;\n",
              "      fill: #D2E3FC;\n",
              "    }\n",
              "\n",
              "    [theme=dark] .colab-df-convert:hover {\n",
              "      background-color: #434B5C;\n",
              "      box-shadow: 0px 1px 3px 1px rgba(0, 0, 0, 0.15);\n",
              "      filter: drop-shadow(0px 1px 2px rgba(0, 0, 0, 0.3));\n",
              "      fill: #FFFFFF;\n",
              "    }\n",
              "  </style>\n",
              "\n",
              "      <script>\n",
              "        const buttonEl =\n",
              "          document.querySelector('#df-dc67dfc5-9891-4ce3-89f1-95a4e012b594 button.colab-df-convert');\n",
              "        buttonEl.style.display =\n",
              "          google.colab.kernel.accessAllowed ? 'block' : 'none';\n",
              "\n",
              "        async function convertToInteractive(key) {\n",
              "          const element = document.querySelector('#df-dc67dfc5-9891-4ce3-89f1-95a4e012b594');\n",
              "          const dataTable =\n",
              "            await google.colab.kernel.invokeFunction('convertToInteractive',\n",
              "                                                     [key], {});\n",
              "          if (!dataTable) return;\n",
              "\n",
              "          const docLinkHtml = 'Like what you see? Visit the ' +\n",
              "            '<a target=\"_blank\" href=https://colab.research.google.com/notebooks/data_table.ipynb>data table notebook</a>'\n",
              "            + ' to learn more about interactive tables.';\n",
              "          element.innerHTML = '';\n",
              "          dataTable['output_type'] = 'display_data';\n",
              "          await google.colab.output.renderOutput(dataTable, element);\n",
              "          const docLink = document.createElement('div');\n",
              "          docLink.innerHTML = docLinkHtml;\n",
              "          element.appendChild(docLink);\n",
              "        }\n",
              "      </script>\n",
              "    </div>\n",
              "  </div>\n",
              "  "
            ]
          },
          "metadata": {},
          "execution_count": 20
        }
      ]
    },
    {
      "cell_type": "code",
      "source": [
        "del hotels['Unnamed: 0']\n",
        "del hotels['index']"
      ],
      "metadata": {
        "id": "BQZtNAbO8zOX"
      },
      "execution_count": 19,
      "outputs": []
    },
    {
      "cell_type": "code",
      "source": [
        "crimes.head(2)"
      ],
      "metadata": {
        "colab": {
          "base_uri": "https://localhost:8080/",
          "height": 112
        },
        "id": "k4VNgLI26Ctl",
        "outputId": "e2c3aa4f-af7d-4b8a-89dc-474708d69c42"
      },
      "execution_count": 16,
      "outputs": [
        {
          "output_type": "execute_result",
          "data": {
            "text/plain": [
              "  Highest Offense Description      Occurred Date Time      Location Type  \\\n",
              "0                       THEFT  03/25/2023 12:10:00 PM  CONVENIENCE STORE   \n",
              "1         DISTURBANCE - OTHER  03/25/2023 11:47:00 PM   RESIDENCE / HOME   \n",
              "\n",
              "               Address  X-coordinate  Y-coordinate   Latitude  Longitude  \\\n",
              "0  4405 E RIVERSIDE DR     3120615.0    10058135.0  30.232975 -97.723787   \n",
              "1      300 FERGUSON DR     3131586.0    10110544.0  30.376325 -97.685107   \n",
              "\n",
              "                      Location APD Sector APD District  Council District  \n",
              "0  (30.23297487, -97.72378708)         HE            4               3.0  \n",
              "1  (30.37632539, -97.68510677)         ED            1               4.0  "
            ],
            "text/html": [
              "\n",
              "  <div id=\"df-465a21ae-ece6-493c-9853-d652ba3d105e\">\n",
              "    <div class=\"colab-df-container\">\n",
              "      <div>\n",
              "<style scoped>\n",
              "    .dataframe tbody tr th:only-of-type {\n",
              "        vertical-align: middle;\n",
              "    }\n",
              "\n",
              "    .dataframe tbody tr th {\n",
              "        vertical-align: top;\n",
              "    }\n",
              "\n",
              "    .dataframe thead th {\n",
              "        text-align: right;\n",
              "    }\n",
              "</style>\n",
              "<table border=\"1\" class=\"dataframe\">\n",
              "  <thead>\n",
              "    <tr style=\"text-align: right;\">\n",
              "      <th></th>\n",
              "      <th>Highest Offense Description</th>\n",
              "      <th>Occurred Date Time</th>\n",
              "      <th>Location Type</th>\n",
              "      <th>Address</th>\n",
              "      <th>X-coordinate</th>\n",
              "      <th>Y-coordinate</th>\n",
              "      <th>Latitude</th>\n",
              "      <th>Longitude</th>\n",
              "      <th>Location</th>\n",
              "      <th>APD Sector</th>\n",
              "      <th>APD District</th>\n",
              "      <th>Council District</th>\n",
              "    </tr>\n",
              "  </thead>\n",
              "  <tbody>\n",
              "    <tr>\n",
              "      <th>0</th>\n",
              "      <td>THEFT</td>\n",
              "      <td>03/25/2023 12:10:00 PM</td>\n",
              "      <td>CONVENIENCE STORE</td>\n",
              "      <td>4405 E RIVERSIDE DR</td>\n",
              "      <td>3120615.0</td>\n",
              "      <td>10058135.0</td>\n",
              "      <td>30.232975</td>\n",
              "      <td>-97.723787</td>\n",
              "      <td>(30.23297487, -97.72378708)</td>\n",
              "      <td>HE</td>\n",
              "      <td>4</td>\n",
              "      <td>3.0</td>\n",
              "    </tr>\n",
              "    <tr>\n",
              "      <th>1</th>\n",
              "      <td>DISTURBANCE - OTHER</td>\n",
              "      <td>03/25/2023 11:47:00 PM</td>\n",
              "      <td>RESIDENCE / HOME</td>\n",
              "      <td>300 FERGUSON DR</td>\n",
              "      <td>3131586.0</td>\n",
              "      <td>10110544.0</td>\n",
              "      <td>30.376325</td>\n",
              "      <td>-97.685107</td>\n",
              "      <td>(30.37632539, -97.68510677)</td>\n",
              "      <td>ED</td>\n",
              "      <td>1</td>\n",
              "      <td>4.0</td>\n",
              "    </tr>\n",
              "  </tbody>\n",
              "</table>\n",
              "</div>\n",
              "      <button class=\"colab-df-convert\" onclick=\"convertToInteractive('df-465a21ae-ece6-493c-9853-d652ba3d105e')\"\n",
              "              title=\"Convert this dataframe to an interactive table.\"\n",
              "              style=\"display:none;\">\n",
              "        \n",
              "  <svg xmlns=\"http://www.w3.org/2000/svg\" height=\"24px\"viewBox=\"0 0 24 24\"\n",
              "       width=\"24px\">\n",
              "    <path d=\"M0 0h24v24H0V0z\" fill=\"none\"/>\n",
              "    <path d=\"M18.56 5.44l.94 2.06.94-2.06 2.06-.94-2.06-.94-.94-2.06-.94 2.06-2.06.94zm-11 1L8.5 8.5l.94-2.06 2.06-.94-2.06-.94L8.5 2.5l-.94 2.06-2.06.94zm10 10l.94 2.06.94-2.06 2.06-.94-2.06-.94-.94-2.06-.94 2.06-2.06.94z\"/><path d=\"M17.41 7.96l-1.37-1.37c-.4-.4-.92-.59-1.43-.59-.52 0-1.04.2-1.43.59L10.3 9.45l-7.72 7.72c-.78.78-.78 2.05 0 2.83L4 21.41c.39.39.9.59 1.41.59.51 0 1.02-.2 1.41-.59l7.78-7.78 2.81-2.81c.8-.78.8-2.07 0-2.86zM5.41 20L4 18.59l7.72-7.72 1.47 1.35L5.41 20z\"/>\n",
              "  </svg>\n",
              "      </button>\n",
              "      \n",
              "  <style>\n",
              "    .colab-df-container {\n",
              "      display:flex;\n",
              "      flex-wrap:wrap;\n",
              "      gap: 12px;\n",
              "    }\n",
              "\n",
              "    .colab-df-convert {\n",
              "      background-color: #E8F0FE;\n",
              "      border: none;\n",
              "      border-radius: 50%;\n",
              "      cursor: pointer;\n",
              "      display: none;\n",
              "      fill: #1967D2;\n",
              "      height: 32px;\n",
              "      padding: 0 0 0 0;\n",
              "      width: 32px;\n",
              "    }\n",
              "\n",
              "    .colab-df-convert:hover {\n",
              "      background-color: #E2EBFA;\n",
              "      box-shadow: 0px 1px 2px rgba(60, 64, 67, 0.3), 0px 1px 3px 1px rgba(60, 64, 67, 0.15);\n",
              "      fill: #174EA6;\n",
              "    }\n",
              "\n",
              "    [theme=dark] .colab-df-convert {\n",
              "      background-color: #3B4455;\n",
              "      fill: #D2E3FC;\n",
              "    }\n",
              "\n",
              "    [theme=dark] .colab-df-convert:hover {\n",
              "      background-color: #434B5C;\n",
              "      box-shadow: 0px 1px 3px 1px rgba(0, 0, 0, 0.15);\n",
              "      filter: drop-shadow(0px 1px 2px rgba(0, 0, 0, 0.3));\n",
              "      fill: #FFFFFF;\n",
              "    }\n",
              "  </style>\n",
              "\n",
              "      <script>\n",
              "        const buttonEl =\n",
              "          document.querySelector('#df-465a21ae-ece6-493c-9853-d652ba3d105e button.colab-df-convert');\n",
              "        buttonEl.style.display =\n",
              "          google.colab.kernel.accessAllowed ? 'block' : 'none';\n",
              "\n",
              "        async function convertToInteractive(key) {\n",
              "          const element = document.querySelector('#df-465a21ae-ece6-493c-9853-d652ba3d105e');\n",
              "          const dataTable =\n",
              "            await google.colab.kernel.invokeFunction('convertToInteractive',\n",
              "                                                     [key], {});\n",
              "          if (!dataTable) return;\n",
              "\n",
              "          const docLinkHtml = 'Like what you see? Visit the ' +\n",
              "            '<a target=\"_blank\" href=https://colab.research.google.com/notebooks/data_table.ipynb>data table notebook</a>'\n",
              "            + ' to learn more about interactive tables.';\n",
              "          element.innerHTML = '';\n",
              "          dataTable['output_type'] = 'display_data';\n",
              "          await google.colab.output.renderOutput(dataTable, element);\n",
              "          const docLink = document.createElement('div');\n",
              "          docLink.innerHTML = docLinkHtml;\n",
              "          element.appendChild(docLink);\n",
              "        }\n",
              "      </script>\n",
              "    </div>\n",
              "  </div>\n",
              "  "
            ]
          },
          "metadata": {},
          "execution_count": 16
        }
      ]
    },
    {
      "cell_type": "markdown",
      "source": [
        "**Viewing the columns from each data frame, the crimes data frame can have some fields removed. However, it will be important that I keep the geo-location information on each of the data frames as they will be used in tandem later.**"
      ],
      "metadata": {
        "id": "BdUwXWaY3aAK"
      }
    },
    {
      "cell_type": "code",
      "source": [
        "print(crimes.columns)\n",
        "print(hotels.columns)"
      ],
      "metadata": {
        "colab": {
          "base_uri": "https://localhost:8080/"
        },
        "id": "_GV2zU_o1nYD",
        "outputId": "5ca160bd-d3ea-4bc2-cbc7-16080bdaa9aa"
      },
      "execution_count": 5,
      "outputs": [
        {
          "output_type": "stream",
          "name": "stdout",
          "text": [
            "Index(['Incident Number', 'Highest Offense Description',\n",
            "       'Highest Offense Code', 'Family Violence', 'Occurred Date Time',\n",
            "       'Occurred Date', 'Occurred Time', 'Report Date Time', 'Report Date',\n",
            "       'Report Time', 'Location Type', 'Address', 'Zip Code',\n",
            "       'Council District', 'APD Sector', 'APD District', 'PRA', 'Census Tract',\n",
            "       'Clearance Status', 'Clearance Date', 'UCR Category',\n",
            "       'Category Description', 'X-coordinate', 'Y-coordinate', 'Latitude',\n",
            "       'Longitude', 'Location', 'Zip Codes', 'Single Member Council Districts',\n",
            "       'BOUNDARIES_single_member_districts', 'Zoning Review Cases_data',\n",
            "       'Neighborhood Planning Areas',\n",
            "       'Boundaries: City of Austin Council Districts'],\n",
            "      dtype='object')\n",
            "Index(['Unnamed: 0', 'index', 'hotel_name', 'address', 'city', 'state',\n",
            "       'zipcode', 'phone', 'lat', 'lng'],\n",
            "      dtype='object')\n"
          ]
        }
      ]
    },
    {
      "cell_type": "markdown",
      "source": [
        "**The crimes data frame will now only have the following fields. Moving forward this is what the new crimes data frame will contain.**"
      ],
      "metadata": {
        "id": "D4TuyPUO4ElJ"
      }
    },
    {
      "cell_type": "code",
      "source": [
        "crimes = crimes[['Highest Offense Description', 'Occurred Date Time', 'Location Type', 'Address', 'X-coordinate', 'Y-coordinate', 'Latitude',\n",
        "       'Longitude', 'Location', 'APD Sector', 'APD District', 'Council District']]"
      ],
      "metadata": {
        "id": "nwrifBbr34kr"
      },
      "execution_count": 6,
      "outputs": []
    },
    {
      "cell_type": "markdown",
      "source": [
        "**Here I will view the unique crimes that exist in the crimes data frame. This is important as some crimes are of similar type and may be easier to identify if stem of the crimes are kept. i.e. \"Assault with a weapon\" = \"Assault\"**"
      ],
      "metadata": {
        "id": "u9Lc63Os4mni"
      }
    },
    {
      "cell_type": "code",
      "source": [
        "crimes['Highest Offense Description'].unique()"
      ],
      "metadata": {
        "colab": {
          "base_uri": "https://localhost:8080/"
        },
        "id": "Ncuyku_A4l6A",
        "outputId": "5016c25a-9ed4-4233-baf3-9bf7155831e4"
      },
      "execution_count": 12,
      "outputs": [
        {
          "output_type": "execute_result",
          "data": {
            "text/plain": [
              "array(['THEFT', 'DISTURBANCE - OTHER', 'ROBBERY BY ASSAULT',\n",
              "       'DOC DISCHARGE GUN - PUB ROAD', 'BURG OF RES - FAM/DATING ASLT',\n",
              "       'FAMILY DISTURBANCE', 'AUTO THEFT', 'DWI  .15 BAC OR ABOVE',\n",
              "       'POSS OF DRUG PARAPHERNALIA', 'ASSAULT BY THREAT FAM/DATING',\n",
              "       'CRIMINAL TRESPASS', 'INTER EMERG PHONECALL FAM/DATE',\n",
              "       'BURGLARY NON RESIDENCE', 'ASSAULT W/INJURY-FAM/DATE VIOL',\n",
              "       'AGG ASSAULT', 'AGG ASSAULT FAM/DATE VIOLENCE', 'EVADING VEHICLE',\n",
              "       'BURGLARY OF VEHICLE', 'DATING DISTURBANCE', 'ASSAULT WITH INJURY',\n",
              "       'ASSAULT BY CONTACT FAM/DATING', 'DWI', 'EVADING / FOOT',\n",
              "       'THEFT CATALYTIC CONVERTER', 'INTERFERE W PO SERVICE ANIMALS',\n",
              "       'DAMAGE CITY VEHICLE', 'CRIMINAL MISCHIEF', 'TERRORISTIC THREAT',\n",
              "       'DEADLY CONDUCT', 'VIOL STATE LAW - OTHER',\n",
              "       'POSS CONTROLLED SUB/NARCOTIC', 'UNLAWFUL CARRYING WEAPON',\n",
              "       'INTERFERING W/EMERG PHONE CALL', 'AGG ROBBERY/DEADLY WEAPON',\n",
              "       'HARASSMENT', 'POSSESSION OF MARIJUANA',\n",
              "       'AGG ASLT STRANGLE/SUFFOCATE', 'EVADING / VEHICLE PURSUIT',\n",
              "       'VIOL OF PROTECTIVE ORDER', 'ASSAULT BY THREAT',\n",
              "       'ASSAULT BY CONTACT', 'THEFT OF LICENSE PLATE', 'DOC FIGHTING',\n",
              "       'FAMILY DISTURBANCE/PARENTAL', 'DWI 2ND',\n",
              "       'WARRANT ARREST NON TRAFFIC', 'CRASH/FAIL STOP AND RENDER AID',\n",
              "       'TAMPERING WITH GOV RECORD', 'CRUELTY TO ANIMALS', 'MURDER',\n",
              "       'FAILURE TO REG AS SEX OFFENDER', 'RECKLESS DAMAGE', 'STALKING',\n",
              "       'THEFT OF BICYCLE', 'POSS OF FIREARM BY FELON',\n",
              "       'THEFT BY SHOPLIFTING', 'FAILURE TO IDENTIFY',\n",
              "       'FEDERAL VIOL/OTHER', 'IDENTITY THEFT',\n",
              "       'VIOL OF EMERG PROTECTIVE ORDER', 'INDECENT EXPOSURE',\n",
              "       'CRIMINAL TRESPASS/IN VEHICLE', 'CUSTODY ARREST TRAFFIC WARR',\n",
              "       'INJURY TO CHILD', 'VIOL OF BOND CONDITIONS',\n",
              "       'CHILD CUSTODY INTERFERE', 'DOC DISPLAY GUN/DEADLY PUB PLC',\n",
              "       'THEFT OF SERVICE', 'ATTACK BY DOG',\n",
              "       'HARASSMENT OF A PUBLIC SERVANT', 'POSS CONTROLLED SUB/SYN NARC',\n",
              "       'BURGLARY OF RESIDENCE', 'MAIL THEFT', 'THEFT OF TRAILER',\n",
              "       'VIOL CITY ORDINANCE -  GAME RM', 'RESISTING ARREST OR SEARCH',\n",
              "       'SEXUAL ASSAULT OF CHILD/OBJECT', 'FRAUD - OTHER',\n",
              "       'DRIVING WHILE INTOX / FELONY', 'AGG ASLT W/MOTOR VEH FAM/DAT V',\n",
              "       'DAMAGE CITY PROP', 'EXPLOSIVE ORDNANCE DISPOSAL',\n",
              "       'BURGLARY OF SHED/DETACHED GARAGE/STORAGE UNIT',\n",
              "       'AGG ASLT ENHANC STRANGL/SUFFOC', 'AIRPORT PLACES WEAPON PROHIBIT',\n",
              "       'DEL CONTROLLED SUB/OTHER', 'CRIMINAL MISCHIEF-NO SUSPECT',\n",
              "       'INJ TO ELDERLY   FAM/DATE VIOL', 'POSS CONTROLLED SUB/OTHER',\n",
              "       'SEXTING/TRANSMIT SEXUAL PHOTOS', 'FORGERY AND PASSING',\n",
              "       'RAPE OF A CHILD', 'THEFT OF METAL', 'GRAFFITI',\n",
              "       'BURG OF RES - SEXUAL NATURE', 'ARSON', 'PROTECTIVE ORDER',\n",
              "       'ROBBERY BY THREAT', 'THEFT FROM BUILDING',\n",
              "       'FALSE ALARM OR REPORT', 'ASSAULT  CONTACT-SEXUAL NATURE',\n",
              "       'SEXUAL ASSAULT W/ OBJECT', 'INDECENT ASSAULT', 'DOC EXPOSURE',\n",
              "       'DOC DISCHARGE GUN - PUB PLACE', 'INVASIVE VISUAL RECORDING',\n",
              "       'VIOL OF CAMPING ORDINANCE', 'DEL CONTROLLED SUB/NARCOTIC',\n",
              "       'ASSAULT ON PUBLIC SERVANT', 'BURGLARY OF VEH-NO SUSPECT/FU',\n",
              "       'RAPE', 'FELONY ENHANCEMENT/ASSLT W/INJ', 'FORGERY - OTHER',\n",
              "       'THEFT FROM AUTO', 'POSS DANG DRUG', 'DEL MARIJUANA',\n",
              "       'INDECENCY WITH A CHILD/CONTACT', 'ENGAGING IN ORGANIZED CRIME',\n",
              "       'AGG ROBBERY BY ASSAULT', 'CRED CARD ABUSE - OTHER',\n",
              "       'URINATING IN PUBLIC PLACE', 'POSS SYNTHETIC MARIJUANA',\n",
              "       'ONLINE SOLICITATION OF A MINOR', 'INDECENCY WITH CHILD/EXPOSURE',\n",
              "       'DISCLOSE/PROMO INTIMATE VISUAL', 'INTERFERENCE PUBLIC DUTIES',\n",
              "       'ASSAULT ON PEACE OFFICER', 'DWI - DRUG RECOGNITION EXPERT',\n",
              "       'THEFT OF AUTO PARTS', 'THEFT FROM PERSON', 'DEBIT CARD ABUSE',\n",
              "       'FALSE REPORT TO PEACE OFFICER', 'TERRORISTIC THREAT-MASS CASLTY',\n",
              "       'PURCHASING PROSTITUTION', 'EXPLOITATION OF CHILD/ELDERLY',\n",
              "       'VIOL CITY ORDINANCE - SMOKING', 'CRIMINAL TRESPASS/HOTEL',\n",
              "       'BOMB THREAT', 'THEFT BY FALSE PRETEXT/BUNCO',\n",
              "       'VIOL CITY ORDINANCE - OTHER', 'NUISANCE ABATEMENT',\n",
              "       'CRIMINAL TRESPASS/TRANSIENT', 'COUNTERFEITING', 'PROSTITUTION',\n",
              "       'BURGLARY OF COIN-OP MACHINE', 'AIRPORT - CRIMINAL TRESPASS',\n",
              "       'TOBACCO VIOL - UNDER AGE 21', 'ATT BURGLARY OF RESIDENCE',\n",
              "       'FALSE STATEMENT -OBTAIN CREDIT', 'FRAUD FILING FINANCE STATEMENT',\n",
              "       'INJ/CHILD FV (NO CARE/CUSTODY)', 'SERIOUS INJURY TO A CHILD',\n",
              "       'DWI - CHILD PASSENGER', 'ATTACK ON ASSISTANCE ANIMAL',\n",
              "       'CRIMINAL MISCHIEF BY ARSON', 'RENTAL CAR/FAIL TO RETURN',\n",
              "       'TAKE WEAPON FRM POLICE OFFICER', 'ASSAULT OF PREGNANT WM-FAM/DAT',\n",
              "       'ATT AUTO THEFT', 'POSS OF ALCOHOL - AGE 17 TO 20',\n",
              "       'VIOL CITY ORDINANCE - DOG', 'BREACH OF COMPUTER SECURITY',\n",
              "       'INJURY TO ELDERLY PERSON', 'VIOL CITY ORDINANCE - SOUND',\n",
              "       'INJURY DISABLED INDIVIDUAL', 'DOC UNREASONABLE NOISE',\n",
              "       'THEFT BY EMBEZZLEMENT', 'CHILD ENDANGERMENT- ABANDONMEN',\n",
              "       'TAMPERING WITH EVIDENCE', 'TERRORISTIC THREAT-FAM/DAT VIO',\n",
              "       'AGG ASSAULT WITH MOTOR VEH', 'MANF CONTROLLED SUB- SYN NARC',\n",
              "       'THEFT- APPROPRIATE STOLEN PROP', 'PUBLIC LEWDNESS',\n",
              "       'FORGERY- CERTIFICATE OF TITLE', 'AGG RAPE OF A CHILD',\n",
              "       'INJURY TO CHILD (CARE/CUSTODY)', 'INJURY TO ELDERLY PERSON - SBI',\n",
              "       'PURSE SNATCHING', 'DEPENDENT AND NEGLECTED CHILD',\n",
              "       'THEFT-NO SUSPECT/FOLLOWUP', 'DOC ABUSE OR THREAT',\n",
              "       'ONLINE IMPERSONATION', 'MISREP AGE BY MINOR',\n",
              "       'IDENTITY THEFT-TAX RETURNS', 'VIOL CITY ORDINANCE - WRECKER',\n",
              "       'AIRPORT - FEDERAL VIOL', 'PROBATION VIOL',\n",
              "       'FORGERY OF IDENTIFICATION', 'FORGERY BY ALTERATION',\n",
              "       'CRED CARD ABUSE BY FORGERY', 'UNLAWFUL RESTRAINT',\n",
              "       'POSS OF ALCOHOL-AGE 16 & UNDER', 'DEADLY CONDUCT FAM/DATE VIOL',\n",
              "       'FORCED SODOMY', 'SECURING EXEC-DOC BY DECEPTION',\n",
              "       'FRAUD-CARD SKIMMER', 'THEFT OF HEAVY EQUIPMENT',\n",
              "       'AGG SEXUAL ASSAULT CHILD/OBJEC', 'CIVIL DISTURBANCE/DEMO',\n",
              "       'INJ TO DISABLED  FAM/DATE VIOL', 'ABUSE OF 911',\n",
              "       'UCW LICENSE PREMISE', 'ASSAULT OF A PREGNANT WOMAN',\n",
              "       'VIOL OF COURT ORDER-NON EPO-PO', 'POCKET PICKING',\n",
              "       'AGG KIDNAPPING', 'POSS/PROMO CHILD PORNOGRAPHY',\n",
              "       'IMPROPER CONTACT-SEX ASLT VICT', 'CRASH/MANSLAUGHTER',\n",
              "       'LIQUOR LAW VIOLATION/OTHER', 'VIOL STAY AWAY ORDER',\n",
              "       'THEFT BY EXTORTION', 'SEXUAL COERCION',\n",
              "       'CRASH/INTOXICATION ASSAULT', 'SMUGGLING ILLEGAL ALIEN',\n",
              "       'PAROLE VIOL', 'VIOL TEMP EX PARTE  ORDER',\n",
              "       'VOCO - ALCOHOL  CONSUMPTION', 'GAMBLING', 'RETALIATION',\n",
              "       'FORCED SODOMY OF CHILD', 'UNLAWFUL RESTRAINT FAM/DAT VIO',\n",
              "       'DUMPING REFUSE NEAR HIGHWAY', 'AGG ASSAULT ON PEACE OFFICER',\n",
              "       'FORGERY BY MAKING', 'CRIMES AGAINST ELDERLY',\n",
              "       'CONT SEX ABUSE OF CHILD', 'POSS OF PROHIBITED WEAPON',\n",
              "       'AGG SEXUAL ASSAULT CHILD/OBJECT-SUPER', 'CAPITAL MURDER',\n",
              "       'VIOL CITY ORDINANCE -FIREWORK', 'VIOL CITY ORDINANCE - BOOTING',\n",
              "       'IMPERSONATING PUBLIC SERVANT', 'AGG FORCED SODOMY OF CHILD',\n",
              "       'SEXTING DEPICTING A MINOR', 'DOC ABUSIVE LANGUAGE',\n",
              "       'MANF CONTROLLED SUB - OTHER', 'MANSLAUGHTER',\n",
              "       'DOC OFFENSIVE GESTURE', 'VIOL CIVIL RIGHTS PRISONER',\n",
              "       'CRASH/INTOX MANSLAUGHTER'], dtype=object)"
            ]
          },
          "metadata": {},
          "execution_count": 12
        }
      ]
    },
    {
      "cell_type": "markdown",
      "source": [
        "**The list of crimes will be sh"
      ],
      "metadata": {
        "id": "sA34zEiL5shn"
      }
    },
    {
      "cell_type": "code",
      "source": [],
      "metadata": {
        "id": "KP-5k8Ud4i38"
      },
      "execution_count": null,
      "outputs": []
    }
  ]
}